{
 "cells": [
  {
   "cell_type": "code",
   "execution_count": 21,
   "id": "1a520847-b311-4f05-8d03-ebc03c93b247",
   "metadata": {
    "tags": []
   },
   "outputs": [
    {
     "name": "stdout",
     "output_type": "stream",
     "text": [
      "Please insert the amount of the loan required:  100000\n"
     ]
    },
    {
     "name": "stdout",
     "output_type": "stream",
     "text": [
      "For a 30 year mortgage loan of $100000.00 at an annual interest rate of 7.5%, you pay $699.21 per month.\n",
      "\n",
      "\n",
      " Total amount paid will be $251,717.22\n"
     ]
    }
   ],
   "source": [
    "# Mortgage loan Principal\n",
    "principal = float(input('Please insert the amount of the loan required: '))\n",
    "\n",
    "# Percent annual interest rate\n",
    "interest = 10 / 100\n",
    "\n",
    "# Years to pay off mortgage\n",
    "years = 25\n",
    "\n",
    "# Monthly interest rate\n",
    "monthly_interest_rate = interest / 12\n",
    "\n",
    "# Number of monthly payments\n",
    "num_payments = years * 12\n",
    "\n",
    "# Monthly payment calculator using the formula for a fixed-rate mortgage\n",
    "monthly_payment = (principal * monthly_interest_rate) / (1 - (1 + monthly_interest_rate)**(-num_payments))\n",
    "\n",
    "# Round the payment to 2 decimal places\n",
    "interest_payment = round(interest_payment, 2)\n",
    "Total_amount= '{:,.2f}'.format(num_payments*monthly_payment)\n",
    "\n",
    "message = f'For a {years} year mortgage loan of ${principal:.2f} at an annual interest rate of {interest*100}%, you pay ${monthly_payment:.2f} per month.'\n",
    "Total_payment = f' Total amount paid will be ${Total_amount}'\n",
    "\n",
    "print(message)\n",
    "print()\n",
    "print()\n",
    "print(Total_payment)\n",
    "\n"
   ]
  }
 ],
 "metadata": {
  "kernelspec": {
   "display_name": "Python 3 (ipykernel)",
   "language": "python",
   "name": "python3"
  },
  "language_info": {
   "codemirror_mode": {
    "name": "ipython",
    "version": 3
   },
   "file_extension": ".py",
   "mimetype": "text/x-python",
   "name": "python",
   "nbconvert_exporter": "python",
   "pygments_lexer": "ipython3",
   "version": "3.11.4"
  }
 },
 "nbformat": 4,
 "nbformat_minor": 5
}
